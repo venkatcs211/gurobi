{
 "cells": [
  {
   "cell_type": "markdown",
   "id": "5d03a2f0-bfdf-4dd1-8a30-f9f51c8f8a7a",
   "metadata": {},
   "source": [
    "## Diet Problem"
   ]
  },
  {
   "cell_type": "markdown",
   "id": "8659f958-99c0-4076-b58a-202c7c440743",
   "metadata": {},
   "source": [
    "The diet problem aims at finding the number of servings of various foods to buy to minimize the total cost. The minimum-cost diet plan should satisfy specific nutritional requirements."
   ]
  },
  {
   "cell_type": "markdown",
   "id": "3541e628-daee-45fb-a4f5-3be47bb8e96d",
   "metadata": {},
   "source": [
    "### **Data & Model Separation**"
   ]
  },
  {
   "cell_type": "markdown",
   "id": "2d23c9e6-58f3-4cb9-9f53-0a93c1512c9b",
   "metadata": {},
   "source": [
    "While implementing optimization models, the best practice is to have a clean separation between the model and the accompanying data. This allows us to solve the same model as is for different data.\n",
    "\n",
    "Let us first look at the data for the diet problem. We need to know:\n",
    "\n",
    "* Foods\n",
    "* Cost of foods\n",
    "* Nutritional values per unit of different foods\n",
    "* Nutritional requirements of the diet plan\n",
    "\n",
    "    To represent that data, we use the global Gurobi function [multidict](https://docs.gurobi.com/projects/optimizer/en/current/reference/python/func_global.html#multidict) that simplifies dictionary initialization. The multidict function allows to initialise one or more dictionaries in a single statement. The function take a dictionary as its argument, where the value associated with each key is a list of length n. The function splits these lists into individual entries, creating n separate dictionaries. The function returns a list. The first item in this list is the Gurobi [tuplelist](https://docs.gurobi.com/projects/optimizer/en/current/reference/python/tuplelist.html#tuplelist) of shared key values, followed by the n individual Gurobi [tupledict](https://docs.gurobi.com/projects/optimizer/en/current/reference/python/tupledict.html#tupledict) dictionaries.\n",
    "\n",
    "    The code is available in the [Github Link](https://github.com/K-Molloy/nrdf-optimisation/blob/c97a7fda1cf452df32c0e4c3020a99acd9217081/python/diet2.py).\n",
    "    \n",
    "    The youtube link of the video for this Jupyter page is [Youtube](https://www.youtube.com/watch?v=w_WkW1kd5Hc)"
   ]
  },
  {
   "cell_type": "markdown",
   "id": "7709efa4-f8f9-4e49-b1e4-acf35f70e7b8",
   "metadata": {},
   "source": [
    "### **Data**"
   ]
  },
  {
   "cell_type": "code",
   "execution_count": 2,
   "id": "7cc3c762-ab63-42cc-a3e1-8424033e2182",
   "metadata": {},
   "outputs": [],
   "source": [
    "import gurobipy as gp\n",
    "from gurobipy import GRB\n",
    "\n",
    "categories, minNutrition, maxNutrition = gp.multidict({\n",
    "  'calories': [1800, 2200],\n",
    "  'protein': [91, GRB.INFINITY],\n",
    "  'fat': [0, 65],\n",
    "    'sodium': [0, 1779] })\n",
    "foods, cost = gp.multidict({\n",
    "    'hamburger': 2.49,\n",
    "    'chicken':   2.89,\n",
    "    'hot dog':   1.50,\n",
    "    'fries':     1.89,\n",
    "    'macaroni':  2.09,\n",
    "    'pizza':     1.99,\n",
    "    'salad':     2.49,\n",
    "    'milk':      0.89,\n",
    "    'ice cream': 1.59})\n",
    "\n",
    "# Nutrition values for the foods\n",
    "nutritionValues = {\n",
    "    ('hamburger', 'calories'): 410,\n",
    "    ('hamburger', 'protein'):  24,\n",
    "    ('hamburger', 'fat'):      26,\n",
    "    ('hamburger', 'sodium'):   730,\n",
    "    ('chicken',   'calories'): 420,\n",
    "    ('chicken',   'protein'):  32,\n",
    "    ('chicken',   'fat'):      10,\n",
    "    ('chicken',   'sodium'):   1190,\n",
    "    ('hot dog',   'calories'): 560,\n",
    "    ('hot dog',   'protein'):  20,\n",
    "    ('hot dog',   'fat'):      32,\n",
    "    ('hot dog',   'sodium'):   1800,\n",
    "    ('fries',     'calories'): 380,\n",
    "    ('fries',     'protein'):  4,\n",
    "    ('fries',     'fat'):      19,\n",
    "    ('fries',     'sodium'):   270,\n",
    "    ('macaroni',  'calories'): 320,\n",
    "    ('macaroni',  'protein'):  12,\n",
    "    ('macaroni',  'fat'):      10,\n",
    "    ('macaroni',  'sodium'):   930,\n",
    "    ('pizza',     'calories'): 320,\n",
    "    ('pizza',     'protein'):  15,\n",
    "    ('pizza',     'fat'):      12,\n",
    "    ('pizza',     'sodium'):   820,\n",
    "    ('salad',     'calories'): 320,\n",
    "    ('salad',     'protein'):  31,\n",
    "    ('salad',     'fat'):      12,\n",
    "    ('salad',     'sodium'):   1230,\n",
    "    ('milk',      'calories'): 100,\n",
    "    ('milk',      'protein'):  8,\n",
    "    ('milk',      'fat'):      2.5,\n",
    "    ('milk',      'sodium'):   125,\n",
    "    ('ice cream', 'calories'): 330,\n",
    "    ('ice cream', 'protein'):  8,\n",
    "    ('ice cream', 'fat'):      10,\n",
    "    ('ice cream', 'sodium'):   180}"
   ]
  },
  {
   "cell_type": "markdown",
   "id": "61bbceda",
   "metadata": {},
   "source": [
    "### Model"
   ]
  },
  {
   "cell_type": "markdown",
   "id": "ad750cf3",
   "metadata": {},
   "source": [
    "To implement the model , we are using the following methods:\n",
    " - tupledict.prod(coeff.pattern): Returns a linear expression that contains one term for each tuple that is present in both the tupledict and coeff argument; coeff should be python dict that maps tuples to coefficient values\n",
    " - Ranged Linear Constraint: An expression of the form LinExpr = [Const1, Const2], where Const1 and Const2 are constraints and LineExpr is a LinExpr object"
   ]
  },
  {
   "cell_type": "code",
   "execution_count": 12,
   "id": "7c9331ac",
   "metadata": {},
   "outputs": [],
   "source": [
    "def solve(catgories, minNutrition,maxNutrition,foods, cost, nutritionValues):\n",
    "    # Create a new model\n",
    "    model = gp.Model(\"diet_plan\")\n",
    "\n",
    "    # Create decision variables on the foods to buy\n",
    "    buy = model.addVars(foods, name=\"buy\") #Returns a gurobipy tupledict with the foods as keys and the decision variables as values\n",
    "\n",
    "    # The objective is tom minimize the total cost\n",
    "    model.setObjective(buy.prod(cost), GRB.MINIMIZE)\n",
    "    # Nutrition constraints\n",
    "    model.addConstrs((gp.quicksum(nutritionValues[f,c] * buy[f] for f in foods) \n",
    "                      == [minNutrition[c],maxNutrition[c]] for c in categories), name=\"nutrtition_requirements\")\n",
    "    def printSolution():\n",
    "        if model.status == GRB.OPTIMAL:\n",
    "            nutrition = {}\n",
    "            print(f'\\nCost: {round(model.ObjVal,4)}')\n",
    "            print('\\nBuy:')\n",
    "            for f in foods:\n",
    "                print(f'\\t{f}: {round(buy[f].X,4)}')\n",
    "            print('\\nNutritional Values:')\n",
    "            for c in categories:\n",
    "                nutrition[c] = sum(buy[f].X * nutritionValues[f,c] for f in foods)\n",
    "                print(f'\\t{c}: {nutrition[c]}')\n",
    "        else:\n",
    "            print('No solution found')\n",
    "\n",
    "    # Solve the model\n",
    "    model.optimize()\n",
    "    printSolution()\n",
    "    "
   ]
  },
  {
   "cell_type": "markdown",
   "id": "953673bf",
   "metadata": {},
   "source": [
    "### Solve the model given the data"
   ]
  },
  {
   "cell_type": "code",
   "execution_count": 13,
   "id": "56e92311",
   "metadata": {},
   "outputs": [
    {
     "name": "stdout",
     "output_type": "stream",
     "text": [
      "Gurobi Optimizer version 12.0.1 build v12.0.1rc0 (win64 - Windows 10.0 (19045.2))\n",
      "\n",
      "CPU model: Intel(R) Core(TM) i5-4210U CPU @ 1.70GHz, instruction set [SSE2|AVX|AVX2]\n",
      "Thread count: 2 physical cores, 4 logical processors, using up to 4 threads\n",
      "\n",
      "Optimize a model with 4 rows, 12 columns and 39 nonzeros\n",
      "Model fingerprint: 0x33ddb849\n",
      "Coefficient statistics:\n",
      "  Matrix range     [1e+00, 2e+03]\n",
      "  Objective range  [9e-01, 3e+00]\n",
      "  Bounds range     [7e+01, 2e+03]\n",
      "  RHS range        [7e+01, 2e+03]\n",
      "Presolve removed 0 rows and 2 columns\n",
      "Presolve time: 0.01s\n",
      "Presolved: 4 rows, 10 columns, 37 nonzeros\n",
      "\n",
      "Iteration    Objective       Primal Inf.    Dual Inf.      Time\n",
      "       0    0.0000000e+00   1.472500e+02   0.000000e+00      0s\n",
      "       4    1.1828861e+01   0.000000e+00   0.000000e+00      0s\n",
      "\n",
      "Solved in 4 iterations and 0.03 seconds (0.00 work units)\n",
      "Optimal objective  1.182886111e+01\n",
      "\n",
      "Cost: 11.8289\n",
      "\n",
      "Buy:\n",
      "\thamburger: 0.6045\n",
      "\tchicken: 0.0\n",
      "\thot dog: 0.0\n",
      "\tfries: 0.0\n",
      "\tmacaroni: 0.0\n",
      "\tpizza: 0.0\n",
      "\tsalad: 0.0\n",
      "\tmilk: 6.9701\n",
      "\tice cream: 2.5913\n",
      "\n",
      "Nutritional Values:\n",
      "\tcalories: 1800.0\n",
      "\tprotein: 91.0\n",
      "\tfat: 59.055902777777774\n",
      "\tsodium: 1779.0\n"
     ]
    }
   ],
   "source": [
    "solve(categories, minNutrition, maxNutrition, foods, cost, nutritionValues)"
   ]
  },
  {
   "cell_type": "markdown",
   "id": "c0c695f9",
   "metadata": {},
   "source": [
    "### Change data"
   ]
  },
  {
   "cell_type": "code",
   "execution_count": 14,
   "id": "b49f8020",
   "metadata": {},
   "outputs": [
    {
     "name": "stdout",
     "output_type": "stream",
     "text": [
      "Gurobi Optimizer version 12.0.1 build v12.0.1rc0 (win64 - Windows 10.0 (19045.2))\n",
      "\n",
      "CPU model: Intel(R) Core(TM) i5-4210U CPU @ 1.70GHz, instruction set [SSE2|AVX|AVX2]\n",
      "Thread count: 2 physical cores, 4 logical processors, using up to 4 threads\n",
      "\n",
      "Optimize a model with 4 rows, 12 columns and 39 nonzeros\n",
      "Model fingerprint: 0x1acfb671\n",
      "Coefficient statistics:\n",
      "  Matrix range     [1e+00, 2e+03]\n",
      "  Objective range  [9e-01, 3e+00]\n",
      "  Bounds range     [7e+01, 2e+03]\n",
      "  RHS range        [7e+01, 2e+03]\n",
      "Presolve removed 0 rows and 2 columns\n",
      "Presolve time: 0.03s\n",
      "Presolved: 4 rows, 10 columns, 37 nonzeros\n",
      "\n",
      "Iteration    Objective       Primal Inf.    Dual Inf.      Time\n",
      "       0    0.0000000e+00   1.468750e+02   0.000000e+00      0s\n",
      "       5    1.1640429e+01   0.000000e+00   0.000000e+00      0s\n",
      "\n",
      "Solved in 5 iterations and 0.05 seconds (0.00 work units)\n",
      "Optimal objective  1.164042857e+01\n",
      "\n",
      "Cost: 11.6404\n",
      "\n",
      "Buy:\n",
      "\thamburger: 0.4768\n",
      "\tchicken: 0.0\n",
      "\thot dog: 0.0\n",
      "\tfries: 0.0\n",
      "\tmacaroni: 0.0\n",
      "\tpizza: 0.0\n",
      "\tsalad: 0.0\n",
      "\tmilk: 10.2107\n",
      "\tice cream: 0.8589\n",
      "\n",
      "Nutritional Values:\n",
      "\tcalories: 1500.0\n",
      "\tprotein: 100.0\n",
      "\tfat: 46.5125\n",
      "\tsodium: 1779.0\n"
     ]
    }
   ],
   "source": [
    "categories, minNutrition, maxNutrition = gp.multidict({\n",
    "  'calories': [1500, 1800],\n",
    "  'protein': [100, GRB.INFINITY],\n",
    "  'fat': [0, 65],\n",
    "    'sodium': [0, 1779] })\n",
    "solve(categories, minNutrition, maxNutrition, foods, cost, nutritionValues)"
   ]
  }
 ],
 "metadata": {
  "kernelspec": {
   "display_name": "Python 3",
   "language": "python",
   "name": "python3"
  },
  "language_info": {
   "codemirror_mode": {
    "name": "ipython",
    "version": 3
   },
   "file_extension": ".py",
   "mimetype": "text/x-python",
   "name": "python",
   "nbconvert_exporter": "python",
   "pygments_lexer": "ipython3",
   "version": "3.12.7"
  }
 },
 "nbformat": 4,
 "nbformat_minor": 5
}

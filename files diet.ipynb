{
 "cells": [
  {
   "cell_type": "markdown",
   "id": "05a46dfa",
   "metadata": {},
   "source": [
    "## Reading data from files in Gurobipy"
   ]
  },
  {
   "cell_type": "markdown",
   "id": "e0960535",
   "metadata": {},
   "source": [
    "In this notebook we build off the previous diet problem videos to show how you can read input data form files to be used in ```gurobipy``` models."
   ]
  },
  {
   "cell_type": "code",
   "execution_count": null,
   "id": "02482ea8",
   "metadata": {},
   "outputs": [
    {
     "ename": "",
     "evalue": "",
     "output_type": "error",
     "traceback": [
      "\u001b[1;31mFailed to start the Kernel. \n",
      "\u001b[1;31mThe kernel died. Error: ... View Jupyter <a href='command:jupyter.viewOutput'>log</a> for further details."
     ]
    }
   ],
   "source": [
    "%pip install gurobipy"
   ]
  },
  {
   "cell_type": "code",
   "execution_count": 1,
   "id": "11227f78",
   "metadata": {},
   "outputs": [],
   "source": [
    "import pandas as pd\n",
    "import gurobipy as gp\n",
    "from gurobipy import GRB"
   ]
  },
  {
   "cell_type": "markdown",
   "id": "d2f6922b",
   "metadata": {},
   "source": [
    "In the accompanying videos we use gurobipy's ```multidict``` to hardcode daa for our optimization problem . This may look familiar."
   ]
  },
  {
   "cell_type": "code",
   "execution_count": 2,
   "id": "88210aec",
   "metadata": {},
   "outputs": [],
   "source": [
    "categories, minNutrition, maxNutrition = gp.multidict({\n",
    "    \"calories\" : [1800, 2200],\n",
    "    \"protein\" : [91, GRB.INFINITY],\n",
    "    \"fat\" : [0, 65],\n",
    "    \"sodium\" : [0, 1779]})\n",
    "\n",
    "food, cost = gp.multidict({\n",
    "    \"hamburger\" : 2.49,\n",
    "    \"chicken\" : 2.89,\n",
    "    \"hot dog\" : 1.50,\n",
    "    \"fries\" : 1.89,\n",
    "    \"macaroni\" : 2.09,\n",
    "    \"pizza\" : 1.99,\n",
    "    \"salad\" : 2.49,\n",
    "    \"milk\" : 0.89,\n",
    "    \"ice cream\": 1.29})"
   ]
  },
  {
   "cell_type": "markdown",
   "id": "66e9854e",
   "metadata": {},
   "source": [
    "Categories is a list (and same with foods)."
   ]
  },
  {
   "cell_type": "code",
   "execution_count": 3,
   "id": "fb24c940",
   "metadata": {},
   "outputs": [
    {
     "data": {
      "text/plain": [
       "['calories', 'protein', 'fat', 'sodium']"
      ]
     },
     "execution_count": 3,
     "metadata": {},
     "output_type": "execute_result"
    }
   ],
   "source": [
    "categories"
   ]
  },
  {
   "cell_type": "markdown",
   "id": "927a6887",
   "metadata": {},
   "source": [
    "Cost is a dictionary with foods as key"
   ]
  },
  {
   "cell_type": "code",
   "execution_count": 4,
   "id": "5015ad2f",
   "metadata": {},
   "outputs": [
    {
     "data": {
      "text/plain": [
       "{'hamburger': 2.49,\n",
       " 'chicken': 2.89,\n",
       " 'hot dog': 1.5,\n",
       " 'fries': 1.89,\n",
       " 'macaroni': 2.09,\n",
       " 'pizza': 1.99,\n",
       " 'salad': 2.49,\n",
       " 'milk': 0.89,\n",
       " 'ice cream': 1.29}"
      ]
     },
     "execution_count": 4,
     "metadata": {},
     "output_type": "execute_result"
    }
   ],
   "source": [
    "cost"
   ]
  },
  {
   "cell_type": "markdown",
   "id": "b1863ed5",
   "metadata": {},
   "source": [
    "Let's create the mode object, add decision variables and set the objective function"
   ]
  },
  {
   "cell_type": "code",
   "execution_count": 7,
   "id": "6d8f90ce",
   "metadata": {},
   "outputs": [],
   "source": [
    "m = gp.Model('another diet')\n",
    "# Create decision variables for the foods to buy\n",
    "buy = m.addVars(food, name=\"buy\")\n",
    "#Set the objective function to minimize cost\n",
    "m.setObjective(buy.prod(cost), GRB.MINIMIZE)"
   ]
  },
  {
   "cell_type": "markdown",
   "id": "74117d4c",
   "metadata": {},
   "source": [
    "This is how we can add the nutrition values for each food/category pari which is a ```tupledict```"
   ]
  },
  {
   "cell_type": "code",
   "execution_count": 9,
   "id": "68047485",
   "metadata": {},
   "outputs": [],
   "source": [
    "nutritionValues = {\n",
    "    (\"hamburger\", \"calories\") : 410,\n",
    "    (\"hamburger\", \"protein\") : 24,\n",
    "    (\"hamburger\", \"fat\") : 26,\n",
    "    (\"hamburger\", \"sodium\") : 730,\n",
    "    (\"chicken\", \"calories\") : 420,\n",
    "    (\"chicken\", \"protein\") : 32,\n",
    "    (\"chicken\", \"fat\") : 10,\n",
    "    (\"chicken\", \"sodium\") : 1800,\n",
    "    (\"hot dog\", \"calories\") : 560,\n",
    "    (\"hot dog\", \"protein\") : 20,\n",
    "    (\"hot dog\", \"fat\") : 32,\n",
    "    (\"hot dog\", \"sodium\") : 1800,\n",
    "    (\"fries\", \"calories\") : 380,\n",
    "    (\"fries\", \"protein\") : 4,\n",
    "    (\"fries\", \"fat\") : 19,\n",
    "    (\"fries\", \"sodium\") : 270,\n",
    "    (\"macaroni\", \"calories\") : 320,\n",
    "    (\"macaroni\", \"protein\") : 12,\n",
    "    (\"macaroni\", \"fat\") : 10,\n",
    "    (\"macaroni\", \"sodium\") : 930,\n",
    "    (\"pizza\", \"calories\") : 320,\n",
    "    (\"pizza\", \"protein\") : 15,\n",
    "    (\"pizza\", \"fat\") : 12,\n",
    "    (\"pizza\", \"sodium\") : 820,\n",
    "    (\"salad\", \"calories\") : 320,\n",
    "    (\"salad\", \"protein\") : 31,\n",
    "    (\"salad\", \"fat\") : 12,\n",
    "    (\"salad\", \"sodium\") : 1230,\n",
    "    (\"milk\", \"calories\") : 100,\n",
    "    (\"milk\", \"protein\") : 8,\n",
    "    (\"milk\", \"fat\") : 2.5,\n",
    "    (\"milk\", \"sodium\") : 125,\n",
    "    (\"ice cream\",\"calories\"):330, \n",
    "    (\"ice cream\",\"protein\"):8, \n",
    "    (\"ice cream\",\"fat\"):10, \n",
    "    (\"ice cream\",\"sodium\"):180}\n",
    "\n"
   ]
  },
  {
   "cell_type": "markdown",
   "id": "0a8f42cb",
   "metadata": {},
   "source": [
    "Instead of typing in all of the above , let's look how to read in a csv file with the same data using ```pandas```"
   ]
  },
  {
   "cell_type": "code",
   "execution_count": 11,
   "id": "bdc91de1",
   "metadata": {},
   "outputs": [
    {
     "data": {
      "text/plain": [
       "food       categories\n",
       "hamburger  calories       410.0\n",
       "           protein         24.0\n",
       "           fat             26.0\n",
       "           sodium         730.0\n",
       "chicken    calories       420.0\n",
       "           protein         32.0\n",
       "           fat             10.0\n",
       "           sodium        1190.0\n",
       "hot dog    calories       560.0\n",
       "           protein         20.0\n",
       "           fat             32.0\n",
       "           sodium        1800.0\n",
       "fries      calories       380.0\n",
       "           protein          4.0\n",
       "           fat             19.0\n",
       "           sodium         270.0\n",
       "macaroni   calories       320.0\n",
       "           protein         12.0\n",
       "           fat             10.0\n",
       "           sodium         930.0\n",
       "pizza      calories       320.0\n",
       "           protein         15.0\n",
       "           fat             12.0\n",
       "           sodium         820.0\n",
       "salad      calories       320.0\n",
       "           protein         31.0\n",
       "           fat             12.0\n",
       "           sodium        1230.0\n",
       "milk       calories       100.0\n",
       "           protein          8.0\n",
       "           fat              2.5\n",
       "           sodium         125.0\n",
       "ice cream  calories       330.0\n",
       "           protein          8.0\n",
       "           fat             10.0\n",
       "           sodium         180.0\n",
       "Name: values, dtype: float64"
      ]
     },
     "execution_count": 11,
     "metadata": {},
     "output_type": "execute_result"
    }
   ],
   "source": [
    "nutrition = pd.read_csv(\"nutritionValues.csv\", index_col=[0,1]).squeeze('columns')\n",
    "nutrition"
   ]
  }
 ],
 "metadata": {
  "kernelspec": {
   "display_name": "base",
   "language": "python",
   "name": "python3"
  },
  "language_info": {
   "codemirror_mode": {
    "name": "ipython",
    "version": 3
   },
   "file_extension": ".py",
   "mimetype": "text/x-python",
   "name": "python",
   "nbconvert_exporter": "python",
   "pygments_lexer": "ipython3",
   "version": "3.12.7"
  }
 },
 "nbformat": 4,
 "nbformat_minor": 5
}
